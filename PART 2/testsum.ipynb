{
 "cells": [
  {
   "cell_type": "code",
   "execution_count": 42,
   "metadata": {},
   "outputs": [],
   "source": [
    "from transformers import pipeline\n",
    "import pandas as pd\n",
    "import numpy as np\n",
    "import textwrap"
   ]
  },
  {
   "cell_type": "code",
   "execution_count": 43,
   "metadata": {},
   "outputs": [],
   "source": [
    "# Load the dataset from the CSV file \"bbc_text_cls (1).csv\" into a pandas DataFrame.\n",
    "df = pd.read_csv(\"bbc_text_cls (1).csv\")"
   ]
  },
  {
   "cell_type": "code",
   "execution_count": 44,
   "metadata": {},
   "outputs": [
    {
     "data": {
      "text/html": [
       "<div>\n",
       "<style scoped>\n",
       "    .dataframe tbody tr th:only-of-type {\n",
       "        vertical-align: middle;\n",
       "    }\n",
       "\n",
       "    .dataframe tbody tr th {\n",
       "        vertical-align: top;\n",
       "    }\n",
       "\n",
       "    .dataframe thead th {\n",
       "        text-align: right;\n",
       "    }\n",
       "</style>\n",
       "<table border=\"1\" class=\"dataframe\">\n",
       "  <thead>\n",
       "    <tr style=\"text-align: right;\">\n",
       "      <th></th>\n",
       "      <th>text</th>\n",
       "      <th>labels</th>\n",
       "    </tr>\n",
       "  </thead>\n",
       "  <tbody>\n",
       "    <tr>\n",
       "      <th>0</th>\n",
       "      <td>Ad sales boost Time Warner profit\\n\\nQuarterly...</td>\n",
       "      <td>business</td>\n",
       "    </tr>\n",
       "    <tr>\n",
       "      <th>1</th>\n",
       "      <td>Dollar gains on Greenspan speech\\n\\nThe dollar...</td>\n",
       "      <td>business</td>\n",
       "    </tr>\n",
       "    <tr>\n",
       "      <th>2</th>\n",
       "      <td>Yukos unit buyer faces loan claim\\n\\nThe owner...</td>\n",
       "      <td>business</td>\n",
       "    </tr>\n",
       "    <tr>\n",
       "      <th>3</th>\n",
       "      <td>High fuel prices hit BA's profits\\n\\nBritish A...</td>\n",
       "      <td>business</td>\n",
       "    </tr>\n",
       "    <tr>\n",
       "      <th>4</th>\n",
       "      <td>Pernod takeover talk lifts Domecq\\n\\nShares in...</td>\n",
       "      <td>business</td>\n",
       "    </tr>\n",
       "  </tbody>\n",
       "</table>\n",
       "</div>"
      ],
      "text/plain": [
       "                                                text    labels\n",
       "0  Ad sales boost Time Warner profit\\n\\nQuarterly...  business\n",
       "1  Dollar gains on Greenspan speech\\n\\nThe dollar...  business\n",
       "2  Yukos unit buyer faces loan claim\\n\\nThe owner...  business\n",
       "3  High fuel prices hit BA's profits\\n\\nBritish A...  business\n",
       "4  Pernod takeover talk lifts Domecq\\n\\nShares in...  business"
      ]
     },
     "execution_count": 44,
     "metadata": {},
     "output_type": "execute_result"
    }
   ],
   "source": [
    "# Display the first 5 rows of the DataFrame 'df' to get an initial understanding of the data.df.head()\\\n",
    "df.head()"
   ]
  },
  {
   "cell_type": "code",
   "execution_count": 45,
   "metadata": {},
   "outputs": [],
   "source": [
    "# Filter the DataFrame 'df' to select rows where the 'labels' column is 'business'. \n",
    "# From the filtered rows, select the 'text' column and pick a random sample.\n",
    "# The random state is set to 42 to ensure reproducibility. Use the .sample method and check the n and random_state parameters\n",
    "filtered_df = df[df['labels'] == 'business']['text']\n",
    "text = filtered_df.sample(n=1, random_state=40).iloc[0]"
   ]
  },
  {
   "cell_type": "code",
   "execution_count": 46,
   "metadata": {},
   "outputs": [
    {
     "name": "stdout",
     "output_type": "stream",
     "text": [
      "Indian oil firm eyes Yukos assets\n",
      "\n",
      "India's biggest oil exploration firm, Oil & Natural Gas Corp (ONGC), says it is in talks to buy the former assets of troubled Russian crude producer Yukos.\n",
      "\n",
      "\"We are in touch with the concerned Russian entities about the Yukos assets and other opportunities in Russia,\" said ONGC chairman Subir Raha. Local press had reported that ONGC was looking to buy 15% of Yukos' former key oil production unit for $2bn (£1bn). Yukos is being broken up by Russian authorities to pay a massive tax bill.\n",
      "\n",
      "It was forced to sell its key production unit Yuganskneftegas (Yugansk) last month after being hit with a bill of $27bn in unpaid taxes and fines.\n",
      "\n",
      "State-owned Rosneft now owns Yugansk and Russia has said it will turn the oil producer into a stand-alone firm. Indian oil minister Mani Shankar Aiyar discussed ONGC's plans during a trip to Moscow last year, and the topic came up again during Russian president Vladimir Putin's recent visit to New Delhi. \"It would make great sense for us to build on that,\" said Mr Aiyar. India's oil production has stagnated over recent years, and it is having to look abroad to secure future supplies. India imports about 70% of its total oil consumption. At the same time, India's economy is booming and the country's thirst for oil is so strong that it has helped pushed up the price of crude worldwide.\n",
      "\n",
      "India produces about 793,000 barrels of oil per day (bpd), little changed since the start of the 1990s, according to oil industry analysts Douglas-Westwood. Consumption, meanwhile, has jumped to 2.4 million bpd, compared with 474,000 bpd in 1973.\n",
      "\n",
      "\"For countries to develop, they have to have access to energy,\" said John Westwood, managing director of oil industry analysts Douglas-Westwood. India is a \"dramatically growing economy that must have access to oil\". By buying into Yugansk, ONGC would be able to reduce its dependence on Gulf states for oil imports, Mr Westwood explained, especially as the chances of finding and exploiting resources within India are slim. \"We forecast that Indian production will go into significant decline,\" Mr Westwood said. \"By 2020, production may only be at half of today's levels.\" ONGC, which is majority-owned by the Indian state, already has bought petroleum assets in countries including Vietnam, Sudan and Russia. The company is a partner with Rosneft in the Sakhalin-1 oil field off Russia's Siberian coast.\n",
      "\n",
      "ONGC is, however, not the only firm interested in Yugansk.\n",
      "\n",
      "Chinese crude company China National Petroleum has also been mentioned as a possible investor, while on Thursday, Italy refused to rule out an interest. ONGC's interest is the latest twist in a saga that has seen one of the world's biggest oil producers brought to its knees. The dispute is partly driven by President Putin's clampdown on the political ambitions of ex-Yukos boss Mikhail Khodorkovsky, who is currently in jail on charges of fraud and tax evasion. Yukos has been battling the Russian authorities for more than a year and has filed for bankruptcy protection in the US. Analysts have questioned how long it can continue to survive without Yugansk. On Thursday, a US court said it will hear arguments for Yukos' bankruptcy claim to be thrown out on 16 February. Should that happen, Yukos will have little chance of clawing back its assets, analysts said.\n"
     ]
    }
   ],
   "source": [
    "print(text)"
   ]
  },
  {
   "cell_type": "code",
   "execution_count": 47,
   "metadata": {},
   "outputs": [],
   "source": [
    "# Define a function named 'wrap' that takes a text input 'x'.\n",
    "# This function uses the 'textwrap.fill()' method to wrap the input text.\n",
    "# 'replace_whitespace' is set to False to prevent replacing spaces with newlines.\n",
    "# 'fix_sentence_endings' is set to True to ensure that sentence endings are wrapped correctly.\n",
    "def wrap(x):\n",
    "    return textwrap.fill(x, replace_whitespace=False, fix_sentence_endings= True, width=80)"
   ]
  },
  {
   "cell_type": "code",
   "execution_count": 48,
   "metadata": {},
   "outputs": [
    {
     "name": "stderr",
     "output_type": "stream",
     "text": [
      "No model was supplied, defaulted to sshleifer/distilbart-cnn-12-6 and revision a4f8f3e (https://huggingface.co/sshleifer/distilbart-cnn-12-6).\n",
      "Using a pipeline without specifying a model name and revision in production is not recommended.\n"
     ]
    }
   ],
   "source": [
    "# Initialize the Hugging Face's summarization pipeline.\n",
    "# This creates a transformer-based model pipeline for text summarization.\n",
    "summarizer = pipeline('summarization')"
   ]
  },
  {
   "cell_type": "code",
   "execution_count": 49,
   "metadata": {},
   "outputs": [],
   "source": [
    "# The function is named 'print_summary' and it accepts a single parameter named 'text'.\n",
    "def print_summary(text):\n",
    "\n",
    "    # Split the 'text' at every newline ('\\n'). \n",
    "    # If there's at least one newline in the 'text', it takes the first part (before the first newline).\n",
    "    # If there's no newline, it simply uses the entire 'text'.\n",
    "    formatted_sum = text.split(\"\\n\")[0] if \"\\n\" in text else text\n",
    "\n",
    "    # The 'formatted_sum' (either the first part of 'text' or the whole 'text') is then passed to \n",
    "    # a function named 'summarizer' (not defined here). The output of 'summarizer' is stored in 'summary2'.\n",
    "    summary2 = summarizer(formatted_sum)\n",
    "\n",
    "    # From 'summary2', which appears to be a list of dictionaries, we extract the value \n",
    "    # associated with the key 'summary_text' from the first dictionary in the list. \n",
    "    # This extracted value is stored in 'summary_text'.\n",
    "    summary_text = summary2[0]['summary_text']\n",
    "    \n",
    "    # The 'summary_text' is then passed to the 'wrap' function (presumably from the 'textwrap' module \n",
    "    # or a similar custom function) to format the text with line breaks for better readability. \n",
    "    # The wrapped text is then returned by the 'print_summary' function.\n",
    "    return wrap(summary_text)\n"
   ]
  },
  {
   "cell_type": "code",
   "execution_count": 50,
   "metadata": {},
   "outputs": [
    {
     "name": "stderr",
     "output_type": "stream",
     "text": [
      "Your max_length is set to 142, but your input_length is only 9. Since this is a summarization task, where outputs shorter than the input are typically wanted, you might consider decreasing max_length manually, e.g. summarizer('...', max_length=4)\n"
     ]
    },
    {
     "data": {
      "text/plain": [
       "\" Indian oil firm eyes Yukos assets in talks with Russia's government . Indian\\noil giant says it is looking at assets in Russia's Arctic region . Oil firm says\\nit will continue to look at Yukos' Arctic region as a source of its own oil\\nreserves . India's largest oil company in the world is in talks to sell its\\nfirst oil assets in a decade .\""
      ]
     },
     "execution_count": 50,
     "metadata": {},
     "output_type": "execute_result"
    }
   ],
   "source": [
    "# Call the 'print_summary' function and pass the 'doc' series to it.\n",
    "# This will display the summarized version of the first item in the 'doc' series.\n",
    "print_summary(text)\n"
   ]
  }
 ],
 "metadata": {
  "kernelspec": {
   "display_name": "Python 3",
   "language": "python",
   "name": "python3"
  },
  "language_info": {
   "codemirror_mode": {
    "name": "ipython",
    "version": 3
   },
   "file_extension": ".py",
   "mimetype": "text/x-python",
   "name": "python",
   "nbconvert_exporter": "python",
   "pygments_lexer": "ipython3",
   "version": "3.11.4"
  }
 },
 "nbformat": 4,
 "nbformat_minor": 2
}
