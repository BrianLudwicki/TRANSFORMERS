{
 "cells": [
  {
   "cell_type": "code",
   "execution_count": null,
   "metadata": {},
   "outputs": [],
   "source": [
    "import math\n",
    "import matplotlib.pyplot as plt\n",
    "\n",
    "x = [0.1, 0.5, 0.9, 1.3, 1.7]\n",
    "y = []\n",
    "\n",
    "for item in x:\n",
    "    value = math.log(item)\n",
    "    y.append(value)\n",
    "    \n",
    "print(y)\n",
    "\n",
    "a = [0.1, 0.5, 0.9, 1.3, 1.7]\n",
    "b = [0.1, 0.5, 0.9, 1.3, 1.7]"
   ]
  },
  {
   "cell_type": "code",
   "execution_count": null,
   "metadata": {},
   "outputs": [],
   "source": [
    "plt.plot(x, y)\n",
    "plt.plot(a, b)\n",
    "\n",
    "plt.title(\"Simple XY Plot\")\n",
    "plt.xlabel(\"X values\")\n",
    "plt.ylabel(\"Y values\")"
   ]
  }
 ],
 "metadata": {
  "language_info": {
   "name": "python"
  }
 },
 "nbformat": 4,
 "nbformat_minor": 2
}
