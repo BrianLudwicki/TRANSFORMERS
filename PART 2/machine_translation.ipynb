{
 "cells": [
  {
   "cell_type": "code",
   "execution_count": 3,
   "metadata": {},
   "outputs": [],
   "source": [
    "import numpy as np\n",
    "import tensorflow as tf\n",
    "from tensorflow.keras.applications.mobilenet_v2 import MobileNetV2, decode_predictions, preprocess_input\n",
    "from tensorflow.keras.preprocessing import image"
   ]
  },
  {
   "cell_type": "code",
   "execution_count": 7,
   "metadata": {},
   "outputs": [
    {
     "name": "stdout",
     "output_type": "stream",
     "text": [
      "1/1 [==============================] - 1s 899ms/step\n",
      "1: corn (0.12)\n",
      "2: jigsaw_puzzle (0.11)\n",
      "3: guacamole (0.05)\n"
     ]
    }
   ],
   "source": [
    "# Load the pre-trained MobileNetV2 model.\n",
    "# MobileNetV2 is a lightweight model trained on ImageNet dataset for image classification.\n",
    "# \"weights='imagenet'\" means we are using the weights learned from training on the ImageNet dataset.\n",
    "# \"include_top=True\" means we are including the top layers which make the final classification decisions.\n",
    "base_model = MobileNetV2(weights='imagenet', include_top=True)\n",
    "\n",
    "def predict_image(img_path):\n",
    "    # Load the image from the provided path.\n",
    "    # \"target_size=(224, 224)\" resizes the image to the required input size for MobileNetV2.\n",
    "    img = image.load_img(img_path, target_size=(224, 224))\n",
    "    \n",
    "    # Convert the image to a numpy array.\n",
    "    # This is necessary as the model expects input data as a numerical array.\n",
    "    x = image.img_to_array(img)\n",
    "    \n",
    "    # Expand the shape of the array. \n",
    "    # MobileNetV2 expects input in the shape (batch_size, height, width, channels).\n",
    "    # We are processing one image at a time, so the batch size is 1.\n",
    "    x = np.expand_dims(x, axis=0)\n",
    "    \n",
    "    # Preprocess the image.\n",
    "    # This step scales the pixel values in the image so they're suitable for the model.\n",
    "    # Each pre-trained model in Keras comes with its own preprocess_input function.\n",
    "    x = preprocess_input(x)\n",
    "\n",
    "    # Make predictions using the pre-trained model.\n",
    "    # The output is a probability distribution over the 1000 classes from ImageNet.\n",
    "    preds = base_model.predict(x)\n",
    "\n",
    "    # Decode the predictions to understandable class names.\n",
    "    # The function decode_predictions translates the output of the model into human-readable class names.\n",
    "    # \"top=3\" means we take the top 3 most probable classes.\n",
    "    decoded_preds = decode_predictions(preds, top=3)[0]\n",
    "    \n",
    "    return decoded_preds\n",
    "\n",
    "if __name__ == \"__main__\":\n",
    "    # Provide the path to your image here.\n",
    "    img_path = r\"C:\\Users\\b.ludwicki\\Desktop\\Sprawy HRowe\\gotowanie tomczuk.png\"\n",
    "    \n",
    "    # Predict the contents of the image.\n",
    "    predictions = predict_image(img_path)\n",
    "    \n",
    "    # Print out the predictions.\n",
    "    # For each prediction, it prints the class name and the confidence score.\n",
    "    for i, (imagenet_id, label, score) in enumerate(predictions):\n",
    "        print(f\"{i + 1}: {label} ({score:.2f})\")"
   ]
  }
 ],
 "metadata": {
  "kernelspec": {
   "display_name": "Python 3",
   "language": "python",
   "name": "python3"
  },
  "language_info": {
   "codemirror_mode": {
    "name": "ipython",
    "version": 3
   },
   "file_extension": ".py",
   "mimetype": "text/x-python",
   "name": "python",
   "nbconvert_exporter": "python",
   "pygments_lexer": "ipython3",
   "version": "3.11.4"
  }
 },
 "nbformat": 4,
 "nbformat_minor": 2
}
