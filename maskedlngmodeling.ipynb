{
 "cells": [
  {
   "cell_type": "code",
   "execution_count": 3,
   "metadata": {},
   "outputs": [
    {
     "name": "stderr",
     "output_type": "stream",
     "text": [
      "c:\\Users\\b.ludwicki\\AppData\\Local\\Programs\\Python\\Python311\\Lib\\site-packages\\tqdm\\auto.py:21: TqdmWarning: IProgress not found. Please update jupyter and ipywidgets. See https://ipywidgets.readthedocs.io/en/stable/user_install.html\n",
      "  from .autonotebook import tqdm as notebook_tqdm\n"
     ]
    }
   ],
   "source": [
    "import numpy as np\n",
    "import pandas as pd\n",
    "import textwrap\n",
    "from pprint import pprint\n",
    "\n",
    "from transformers import pipeline"
   ]
  },
  {
   "cell_type": "code",
   "execution_count": 4,
   "metadata": {},
   "outputs": [],
   "source": [
    "#create a dataframe and add the bbc_text_cls.csv file as it's source\n",
    "df = pd.read_csv(\"bbc_text_cls.csv\")"
   ]
  },
  {
   "cell_type": "code",
   "execution_count": 5,
   "metadata": {},
   "outputs": [
    {
     "data": {
      "text/html": [
       "<div>\n",
       "<style scoped>\n",
       "    .dataframe tbody tr th:only-of-type {\n",
       "        vertical-align: middle;\n",
       "    }\n",
       "\n",
       "    .dataframe tbody tr th {\n",
       "        vertical-align: top;\n",
       "    }\n",
       "\n",
       "    .dataframe thead th {\n",
       "        text-align: right;\n",
       "    }\n",
       "</style>\n",
       "<table border=\"1\" class=\"dataframe\">\n",
       "  <thead>\n",
       "    <tr style=\"text-align: right;\">\n",
       "      <th></th>\n",
       "      <th>text</th>\n",
       "      <th>labels</th>\n",
       "    </tr>\n",
       "  </thead>\n",
       "  <tbody>\n",
       "    <tr>\n",
       "      <th>0</th>\n",
       "      <td>Ad sales boost Time Warner profit\\n\\nQuarterly...</td>\n",
       "      <td>business</td>\n",
       "    </tr>\n",
       "    <tr>\n",
       "      <th>1</th>\n",
       "      <td>Dollar gains on Greenspan speech\\n\\nThe dollar...</td>\n",
       "      <td>business</td>\n",
       "    </tr>\n",
       "    <tr>\n",
       "      <th>2</th>\n",
       "      <td>Yukos unit buyer faces loan claim\\n\\nThe owner...</td>\n",
       "      <td>business</td>\n",
       "    </tr>\n",
       "    <tr>\n",
       "      <th>3</th>\n",
       "      <td>High fuel prices hit BA's profits\\n\\nBritish A...</td>\n",
       "      <td>business</td>\n",
       "    </tr>\n",
       "    <tr>\n",
       "      <th>4</th>\n",
       "      <td>Pernod takeover talk lifts Domecq\\n\\nShares in...</td>\n",
       "      <td>business</td>\n",
       "    </tr>\n",
       "  </tbody>\n",
       "</table>\n",
       "</div>"
      ],
      "text/plain": [
       "                                                text    labels\n",
       "0  Ad sales boost Time Warner profit\\n\\nQuarterly...  business\n",
       "1  Dollar gains on Greenspan speech\\n\\nThe dollar...  business\n",
       "2  Yukos unit buyer faces loan claim\\n\\nThe owner...  business\n",
       "3  High fuel prices hit BA's profits\\n\\nBritish A...  business\n",
       "4  Pernod takeover talk lifts Domecq\\n\\nShares in...  business"
      ]
     },
     "execution_count": 5,
     "metadata": {},
     "output_type": "execute_result"
    }
   ],
   "source": [
    "#display the df to see how it looks like\n",
    "df.head()"
   ]
  },
  {
   "cell_type": "code",
   "execution_count": 6,
   "metadata": {},
   "outputs": [
    {
     "name": "stdout",
     "output_type": "stream",
     "text": [
      "['business' 'entertainment' 'politics' 'sport' 'tech']\n"
     ]
    }
   ],
   "source": [
    "#print a unique set of labels in the df to see the values inside\n",
    "print(df['labels']. unique())"
   ]
  },
  {
   "cell_type": "code",
   "execution_count": 16,
   "metadata": {},
   "outputs": [
    {
     "name": "stdout",
     "output_type": "stream",
     "text": [
      "0    Ad sales boost Time Warner profit\\n\\nQuarterly...\n",
      "1    Dollar gains on Greenspan speech\\n\\nThe dollar...\n",
      "2    Yukos unit buyer faces loan claim\\n\\nThe owner...\n",
      "3    High fuel prices hit BA's profits\\n\\nBritish A...\n",
      "4    Pernod takeover talk lifts Domecq\\n\\nShares in...\n",
      "Name: text, dtype: object\n"
     ]
    }
   ],
   "source": [
    "#select the \"business\" label and assign it to a label variable\n",
    "label = 'business'\n",
    "#create a variable called texts and create a new dataframe (df)\n",
    "texts = df[\n",
    "    #from the df select only the labels which are equal to \"business\". This piece basically forms a mask where each entry is 'True' if the \n",
    "    #corresponding row in df['labels'] is equal to the value in 'label'\n",
    "    #note, that this one is applied as a filter to the whole df above \n",
    "    df['labels'] == label]['text']\n",
    "#select only the text column from the filtered row and assign it to variable 'texts'\n",
    "#After filtering the DataFrame based on the 'labels' column, this part selects only the 'text' column.\n",
    "#display the updated df\n",
    "print(texts.head())"
   ]
  },
  {
   "cell_type": "code",
   "execution_count": 8,
   "metadata": {},
   "outputs": [],
   "source": [
    "#set the random seed parameter to replicate the results\n",
    "#this will make sure the sequence of numbers that are generated by random numbe functions will be the same each time the code is run\n",
    "np.random.seed(1234)"
   ]
  },
  {
   "cell_type": "code",
   "execution_count": 20,
   "metadata": {},
   "outputs": [
    {
     "name": "stdout",
     "output_type": "stream",
     "text": [
      "Business confidence dips in Japan\n",
      "\n",
      "Business confidence among Japanese manufacturers has weakened for the first time since March 2003, the quarterly Tankan survey has found.\n",
      "\n",
      "Slower economic growth, rising oil prices, a stronger yen and weaker exports were blamed for the fall. December's confidence level was below that seen in September, the Bank of Japan said. However, September's reading was the strongest for 13 years. \"The economy is at a pause but unlikely to fall\", the economy minister said. \"It will feel a bit slower (next year) than this year, and growth may be a bit more gentle but the situation is that the recovery will continue,\" said economy minister Heizo Takenaka. In the Bank of Japan's December survey, the balance of big manufacturers saying business conditions are better, minus those saying they are worse, was 22, down from 26 in September.\n",
      "\n",
      "Japan's economy grew by just 0.1% in the three months to September, according revised data issued this month. With the recovery slowing, the world's second biggest economy is now expected grow by 0.2% in 2004. The Tankan index is based on a survey of 10,227 firms. Big manufacturers were even more pessimistic about the first quarter of 2005; their views suggest the March reading could go as low as 15 - still in positive territory, but weaker. The dollar's decline has strengthened the yen, making Japanese exports more expensive in the US. China's attempts to cool down its fast-growing economy have also hit Japanese industry's sales abroad. Confidence among non-manufacturers was unchanged in the final quarter of 2004, but it is forecast to drop one point in the March survey. Nonetheless, Japanese firms have been stepping up capital investment, and the survey found the pace is quickening. Companies reported they expect to invest 7.7% more in the year to March 2005 than the previous year - up from expectations of 6.1% increase in the September Tankan.\n"
     ]
    }
   ],
   "source": [
    "#randomly select an index 'i' from the range (number of rows in df, which in this case is 'texts')\n",
    "#the important thing here is that we use numpy random choice which randomly selects an int index from 0 to the size of df\n",
    "i = np.random.choice(texts.shape[0])\n",
    "#fetch the document from the selected i range from 'text' column corresponding to the index i and asign it to 'doc' variable\n",
    "doc = texts.iloc[i]\n",
    "#print the result\n",
    "print(doc)"
   ]
  }
 ],
 "metadata": {
  "kernelspec": {
   "display_name": "Python 3",
   "language": "python",
   "name": "python3"
  },
  "language_info": {
   "codemirror_mode": {
    "name": "ipython",
    "version": 3
   },
   "file_extension": ".py",
   "mimetype": "text/x-python",
   "name": "python",
   "nbconvert_exporter": "python",
   "pygments_lexer": "ipython3",
   "version": "3.11.4"
  },
  "orig_nbformat": 4
 },
 "nbformat": 4,
 "nbformat_minor": 2
}
